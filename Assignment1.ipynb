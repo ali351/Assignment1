{
  "nbformat": 4,
  "nbformat_minor": 0,
  "metadata": {
    "colab": {
      "name": "Assignment1.ipynb",
      "version": "0.3.2",
      "provenance": [],
      "collapsed_sections": [
        "AzngW7v7j0ez",
        "TuNHGqd3ktVw",
        "ibjnCcJulDCX",
        "8zJTJ1rmmN-j",
        "ilv3FW3MmXtX",
        "0jMZ7NHcmgAJ",
        "m-WbCNV2mr5U",
        "TRZEu6y-myJ7",
        "BZAtbF-7m2bg",
        "A3XAstmim5wH",
        "4x59AUJyn45W",
        "8Mn5d-ktn_Yp",
        "2ai_HZUVoEFz",
        "nFppkqzcoG5z",
        "ZBu50PYlou05",
        "5sb3r_w1oymS",
        "UX5Za_35o1zN",
        "3wF10agDo4tj",
        "9XPzV7slo9EP",
        "bvziwZmlpA_A",
        "j9TEWP7rpGRm",
        "BSbanmiFqGmV",
        "T_ij0VTUqRDL",
        "kSibAK2-qVA1",
        "mnGhKnCqqX0l",
        "ZptJZ1Gaqf2m",
        "h-BV-1h4sjw2",
        "RwqbUsdqtb6k",
        "BaMLpjtHuhHD",
        "Lzyct1aJvMMB"
      ]
    },
    "kernelspec": {
      "name": "python3",
      "display_name": "Python 3"
    }
  },
  "cells": [
    {
      "cell_type": "markdown",
      "metadata": {
        "id": "AzngW7v7j0ez",
        "colab_type": "text"
      },
      "source": [
        "### NAME : Muhammad Ali Khan "
      ]
    },
    {
      "cell_type": "markdown",
      "metadata": {
        "id": "TuNHGqd3ktVw",
        "colab_type": "text"
      },
      "source": [
        "### ROLL NUMBER : AIC044380"
      ]
    },
    {
      "cell_type": "markdown",
      "metadata": {
        "id": "ibjnCcJulDCX",
        "colab_type": "text"
      },
      "source": [
        "### Teacher Name : Noman Islam"
      ]
    },
    {
      "cell_type": "markdown",
      "metadata": {
        "id": "8zJTJ1rmmN-j",
        "colab_type": "text"
      },
      "source": [
        "### Institute Name : Saylani Head Office Campus"
      ]
    },
    {
      "cell_type": "markdown",
      "metadata": {
        "id": "ilv3FW3MmXtX",
        "colab_type": "text"
      },
      "source": [
        "### Timing : Sunday (9AM to 12PM)"
      ]
    },
    {
      "cell_type": "markdown",
      "metadata": {
        "id": "0jMZ7NHcmgAJ",
        "colab_type": "text"
      },
      "source": [
        "# 1. Calculate Area of a Circle:"
      ]
    },
    {
      "cell_type": "markdown",
      "metadata": {
        "id": "m-WbCNV2mr5U",
        "colab_type": "text"
      },
      "source": [
        "### Write a Python program which accepts the radius of a circle from the user and compute the area."
      ]
    },
    {
      "cell_type": "markdown",
      "metadata": {
        "id": "TRZEu6y-myJ7",
        "colab_type": "text"
      },
      "source": [
        "### Program Console Sample Output 1:"
      ]
    },
    {
      "cell_type": "markdown",
      "metadata": {
        "id": "BZAtbF-7m2bg",
        "colab_type": "text"
      },
      "source": [
        "### Input Radius: 0.5"
      ]
    },
    {
      "cell_type": "markdown",
      "metadata": {
        "id": "A3XAstmim5wH",
        "colab_type": "text"
      },
      "source": [
        "### Area of Circle with radius 0.5 is 0.**7855**"
      ]
    },
    {
      "cell_type": "code",
      "metadata": {
        "id": "nIYS2Sz0nA0W",
        "colab_type": "code",
        "colab": {
          "base_uri": "https://localhost:8080/",
          "height": 51
        },
        "outputId": "1e58220a-0eea-4e24-b12d-363fe9aa6546"
      },
      "source": [
        "#taking input from the user\n",
        "radius=float(input(\"Write down the Radius:\"))\n",
        "\n",
        "#calculating area of the circle \n",
        "area_of_circle = 3.142*radius**2\n",
        "\n",
        "#Printing area of the circle\n",
        "print(f\"Area with {radius} is {area_of_circle}\")"
      ],
      "execution_count": 1,
      "outputs": [
        {
          "output_type": "stream",
          "text": [
            "Write down the Radius:0.5\n",
            "Area with 0.5 is 0.7855\n"
          ],
          "name": "stdout"
        }
      ]
    },
    {
      "cell_type": "code",
      "metadata": {
        "id": "EWLZrrA9nlBP",
        "colab_type": "code",
        "colab": {}
      },
      "source": [
        ""
      ],
      "execution_count": 0,
      "outputs": []
    },
    {
      "cell_type": "code",
      "metadata": {
        "id": "NA_oqjWMn2Ds",
        "colab_type": "code",
        "colab": {}
      },
      "source": [
        ""
      ],
      "execution_count": 0,
      "outputs": []
    },
    {
      "cell_type": "markdown",
      "metadata": {
        "id": "4x59AUJyn45W",
        "colab_type": "text"
      },
      "source": [
        "# 2. Check Number either positive, negative or zero"
      ]
    },
    {
      "cell_type": "markdown",
      "metadata": {
        "id": "8Mn5d-ktn_Yp",
        "colab_type": "text"
      },
      "source": [
        "### Write a Python program to check if a number is positive, negative or zero"
      ]
    },
    {
      "cell_type": "markdown",
      "metadata": {
        "id": "2ai_HZUVoEFz",
        "colab_type": "text"
      },
      "source": [
        "### Program Console Sample Output 1:"
      ]
    },
    {
      "cell_type": "markdown",
      "metadata": {
        "id": "nFppkqzcoG5z",
        "colab_type": "text"
      },
      "source": [
        "### Enter Number: -1"
      ]
    },
    {
      "cell_type": "markdown",
      "metadata": {
        "id": "ZBu50PYlou05",
        "colab_type": "text"
      },
      "source": [
        "### Negative Number Entered"
      ]
    },
    {
      "cell_type": "markdown",
      "metadata": {
        "id": "5sb3r_w1oymS",
        "colab_type": "text"
      },
      "source": [
        "### Program Console Sample Output 2:"
      ]
    },
    {
      "cell_type": "markdown",
      "metadata": {
        "id": "UX5Za_35o1zN",
        "colab_type": "text"
      },
      "source": [
        "### Integer: 3"
      ]
    },
    {
      "cell_type": "markdown",
      "metadata": {
        "id": "3wF10agDo4tj",
        "colab_type": "text"
      },
      "source": [
        "### Positive Number Entered"
      ]
    },
    {
      "cell_type": "markdown",
      "metadata": {
        "id": "9XPzV7slo9EP",
        "colab_type": "text"
      },
      "source": [
        "### Program Console Sample Output 3:"
      ]
    },
    {
      "cell_type": "markdown",
      "metadata": {
        "id": "bvziwZmlpA_A",
        "colab_type": "text"
      },
      "source": [
        "### Integer: 0"
      ]
    },
    {
      "cell_type": "markdown",
      "metadata": {
        "id": "j9TEWP7rpGRm",
        "colab_type": "text"
      },
      "source": [
        "### Zero Entered"
      ]
    },
    {
      "cell_type": "code",
      "metadata": {
        "id": "ECTz5aQVpJ0j",
        "colab_type": "code",
        "colab": {
          "base_uri": "https://localhost:8080/",
          "height": 51
        },
        "outputId": "18a6ca79-25b6-47a3-a3a8-acbb7303090f"
      },
      "source": [
        "#Taking input from the user\n",
        "check_num = float(input(\"Enter Number: \"))\n",
        "\n",
        "#Using if else conditions to check number either positive,negative or zero\n",
        "if check_num > 0:\n",
        "    print(\"Positive Number Entered\")\n",
        "elif check_num < 0:\n",
        "    print(\"Negative Number Entered\")\n",
        "else:\n",
        "    print(\"Zero Entered\")"
      ],
      "execution_count": 2,
      "outputs": [
        {
          "output_type": "stream",
          "text": [
            "Enter Number:  -1\n",
            "Negative Number Entered\n"
          ],
          "name": "stdout"
        }
      ]
    },
    {
      "cell_type": "code",
      "metadata": {
        "id": "OjSdkpYfqJ8b",
        "colab_type": "code",
        "colab": {}
      },
      "source": [
        ""
      ],
      "execution_count": 0,
      "outputs": []
    },
    {
      "cell_type": "code",
      "metadata": {
        "id": "Rt48n_-xqKKc",
        "colab_type": "code",
        "colab": {}
      },
      "source": [
        ""
      ],
      "execution_count": 0,
      "outputs": []
    },
    {
      "cell_type": "markdown",
      "metadata": {
        "id": "BSbanmiFqGmV",
        "colab_type": "text"
      },
      "source": [
        "# 3. Divisibility Check of two numbers"
      ]
    },
    {
      "cell_type": "markdown",
      "metadata": {
        "id": "T_ij0VTUqRDL",
        "colab_type": "text"
      },
      "source": [
        "### Write a Python program to check whether a number is completely divisible by another number. Accept two integer values form the user"
      ]
    },
    {
      "cell_type": "markdown",
      "metadata": {
        "id": "kSibAK2-qVA1",
        "colab_type": "text"
      },
      "source": [
        "### Program Console Sample Output 1:"
      ]
    },
    {
      "cell_type": "markdown",
      "metadata": {
        "id": "mnGhKnCqqX0l",
        "colab_type": "text"
      },
      "source": [
        "### Enter numerator: 4\n",
        "### **Enter Denominator: 2**"
      ]
    },
    {
      "cell_type": "markdown",
      "metadata": {
        "id": "ZptJZ1Gaqf2m",
        "colab_type": "text"
      },
      "source": [
        "### Number 4 is Completely divisible by 2\n",
        "### **Program Console Sample Output 2:**\n",
        "### **Enter numerator: 7**\n",
        "### **Enter Denominator: 4**\n",
        "### Number 7 is not Completely divisible by 4 **bold text**"
      ]
    },
    {
      "cell_type": "code",
      "metadata": {
        "id": "UQBAS3zSr_ES",
        "colab_type": "code",
        "colab": {
          "base_uri": "https://localhost:8080/",
          "height": 68
        },
        "outputId": "8c9fae48-90a8-4884-b783-de18bc162993"
      },
      "source": [
        "#taking Numerator input from user\n",
        "numerator = int(input(\"Enter Numerator: \"))\n",
        "\n",
        "#taking Denominator input from user\n",
        "denominator = int(input(\"Enter Denominator: \"))\n",
        "\n",
        "#Using if else condiition to check the number divisibility\n",
        "if numerator % denominator == 0:\n",
        "    print(f\"Number {numerator} is completely divisible by {denominator}\")\n",
        "else:\n",
        "    print(f\"Number {numerator} is not completely divisible by {denominator}\")"
      ],
      "execution_count": 3,
      "outputs": [
        {
          "output_type": "stream",
          "text": [
            "Enter Numerator: 7\n",
            "Enter Denominator: 4\n",
            "Number 7 is not completely divisible by 4\n"
          ],
          "name": "stdout"
        }
      ]
    },
    {
      "cell_type": "code",
      "metadata": {
        "id": "9wuEWmHNsjI5",
        "colab_type": "code",
        "colab": {}
      },
      "source": [
        ""
      ],
      "execution_count": 0,
      "outputs": []
    },
    {
      "cell_type": "code",
      "metadata": {
        "id": "xQqjG9-1sjR0",
        "colab_type": "code",
        "colab": {}
      },
      "source": [
        ""
      ],
      "execution_count": 0,
      "outputs": []
    },
    {
      "cell_type": "markdown",
      "metadata": {
        "id": "h-BV-1h4sjw2",
        "colab_type": "text"
      },
      "source": [
        "# 4. Calculate Volume of a sphere\n",
        "### **Write a Python program to get the volume of a sphere, please take the radius as input from user**\n",
        "### **Program Console Output:**\n",
        "### **Enter Radius of Sphere: 1**\n",
        "### **Volume of the Sphere with Radius 1 is 4.189**"
      ]
    },
    {
      "cell_type": "code",
      "metadata": {
        "id": "nNxKoe_Us4ST",
        "colab_type": "code",
        "colab": {
          "base_uri": "https://localhost:8080/",
          "height": 51
        },
        "outputId": "ba36a569-a73a-4473-ef1f-d3720d11861b"
      },
      "source": [
        "#Taking radius as an input\n",
        "radius = int(input(\"Enter Radius of Sphere: \"))\n",
        "\n",
        "#using formula to calculate the volume of the sphere\n",
        "volume = (4/3)*3.142*radius**3\n",
        "\n",
        "#Rounding off the volume to 3 decimal places\n",
        "volume = round(volume,3)\n",
        "\n",
        "#printing volume\n",
        "print(f\"Volume of the Sphere with {radius} is {volume}\")"
      ],
      "execution_count": 4,
      "outputs": [
        {
          "output_type": "stream",
          "text": [
            "Enter Radius of Sphere: 1\n",
            "Volume of the Sphere with 1 is 4.189\n"
          ],
          "name": "stdout"
        }
      ]
    },
    {
      "cell_type": "code",
      "metadata": {
        "id": "Zj_xjGYdtbkY",
        "colab_type": "code",
        "colab": {}
      },
      "source": [
        ""
      ],
      "execution_count": 0,
      "outputs": []
    },
    {
      "cell_type": "code",
      "metadata": {
        "id": "uAfH7EYJtd2X",
        "colab_type": "code",
        "colab": {}
      },
      "source": [
        ""
      ],
      "execution_count": 0,
      "outputs": []
    },
    {
      "cell_type": "markdown",
      "metadata": {
        "id": "RwqbUsdqtb6k",
        "colab_type": "text"
      },
      "source": [
        "# **5. Copy string n times**\n",
        "### **Write a Python program to get a string which is n (non-negative integer) copies of a given string.**\n",
        "### **Program Console Output:**\n",
        "### **Enter String: Hi**\n",
        "### **How many copies of String you need: 4**\n",
        "### **4 Copies of Hi are HiHiHiHi**"
      ]
    },
    {
      "cell_type": "code",
      "metadata": {
        "id": "UbdKDgN_ty1k",
        "colab_type": "code",
        "colab": {
          "base_uri": "https://localhost:8080/",
          "height": 68
        },
        "outputId": "61f8c092-dc65-4f86-a4db-a766669c1652"
      },
      "source": [
        "#Taking input from the user\n",
        "string_input = input(\"Enter String: \")\n",
        "copies = int(input(\"How many copies of String you need: \"))\n",
        "\n",
        "#printing copies\n",
        "print(f\"{copies} Copies of {string_input} are {copies*string_input}\")"
      ],
      "execution_count": 6,
      "outputs": [
        {
          "output_type": "stream",
          "text": [
            "Enter String: Hi\n",
            "How many copies of String you need: 4\n",
            "4 Copies of Hi are HiHiHiHi\n"
          ],
          "name": "stdout"
        }
      ]
    },
    {
      "cell_type": "code",
      "metadata": {
        "id": "GgSSTTAeugIl",
        "colab_type": "code",
        "colab": {}
      },
      "source": [
        ""
      ],
      "execution_count": 0,
      "outputs": []
    },
    {
      "cell_type": "code",
      "metadata": {
        "id": "PBrDO0QQtbfL",
        "colab_type": "code",
        "colab": {}
      },
      "source": [
        ""
      ],
      "execution_count": 0,
      "outputs": []
    },
    {
      "cell_type": "markdown",
      "metadata": {
        "id": "BaMLpjtHuhHD",
        "colab_type": "text"
      },
      "source": [
        "# **6. Check if number is Even or Odd**\n",
        "### **Write a Python program to find whether a given number (accept from the user) is even or odd, print out an appropriate message to the user**\n",
        "### **Program Console Output 1:**\n",
        "### **Enter Number: 4**\n",
        "### **4 is Even**\n",
        "### **Program Console Output 2:¶**\n",
        "### **Enter Number: 9**\n",
        "### **9 is Odd**"
      ]
    },
    {
      "cell_type": "code",
      "metadata": {
        "id": "NU8KxAt0uw0k",
        "colab_type": "code",
        "colab": {
          "base_uri": "https://localhost:8080/",
          "height": 51
        },
        "outputId": "780ef498-6579-4f32-88c7-0aede6a5b248"
      },
      "source": [
        "#Taking input from the user\n",
        "num = int(input(\"Enter Number: \"))\n",
        "\n",
        "#Using If else condition to check if number is even or odd\n",
        "if num % 2 == 0:\n",
        "    print(f\"{num} is Even\")\n",
        "else:\n",
        "    print(f\"{num} is Odd\")"
      ],
      "execution_count": 7,
      "outputs": [
        {
          "output_type": "stream",
          "text": [
            "Enter Number: 4\n",
            "4 is Even\n"
          ],
          "name": "stdout"
        }
      ]
    },
    {
      "cell_type": "code",
      "metadata": {
        "id": "xzA73N5SvLgv",
        "colab_type": "code",
        "colab": {}
      },
      "source": [
        ""
      ],
      "execution_count": 0,
      "outputs": []
    },
    {
      "cell_type": "code",
      "metadata": {
        "id": "uc5FG3hqvL1T",
        "colab_type": "code",
        "colab": {}
      },
      "source": [
        ""
      ],
      "execution_count": 0,
      "outputs": []
    },
    {
      "cell_type": "markdown",
      "metadata": {
        "id": "Lzyct1aJvMMB",
        "colab_type": "text"
      },
      "source": [
        "# **7. Vowel Tester**\n",
        "### **Write a Python program to test whether a passed letter is a vowel or not**\n",
        "### **Program Console Output 1:**\n",
        "### **Enter a character: A**\n",
        "### **Letter A is Vowel**\n",
        "### **Program Console Output 2:**\n",
        "### **Enter a character: e**\n",
        "### **Letter e is Vowel**\n",
        "### **Program Console Output 2:**\n",
        "### **Enter a character: N**\n",
        "### **Letter N is not Vowel**"
      ]
    },
    {
      "cell_type": "code",
      "metadata": {
        "id": "UQr-FL_ivhL2",
        "colab_type": "code",
        "colab": {
          "base_uri": "https://localhost:8080/",
          "height": 51
        },
        "outputId": "a415aabf-a172-4990-e1f2-2da56a8bb8cf"
      },
      "source": [
        "#Taking input from the user\n",
        "char = input(\"Enter a character: \")\n",
        "\n",
        "#Using If else condition to check if character is vowel or not\n",
        "if char.upper() in (\"A\",\"E\",\"I\",\"O\",\"U\"):\n",
        "    print(f\"Letter {char} is Vowel\")\n",
        "else:\n",
        "    print(f\"Letter {char} is not Vowel\")"
      ],
      "execution_count": 8,
      "outputs": [
        {
          "output_type": "stream",
          "text": [
            "Enter a character: a\n",
            "Letter a is Vowel\n"
          ],
          "name": "stdout"
        }
      ]
    },
    {
      "cell_type": "code",
      "metadata": {
        "id": "mgli9oCNv2cB",
        "colab_type": "code",
        "colab": {}
      },
      "source": [
        ""
      ],
      "execution_count": 0,
      "outputs": []
    },
    {
      "cell_type": "code",
      "metadata": {
        "id": "fARiK8dNv2u0",
        "colab_type": "code",
        "colab": {}
      },
      "source": [
        ""
      ],
      "execution_count": 0,
      "outputs": []
    },
    {
      "cell_type": "markdown",
      "metadata": {
        "id": "ikL2Mc0gv3MK",
        "colab_type": "text"
      },
      "source": [
        "# **8. Triangle area**\n",
        "### **Write a Python program that will accept the base and height of a triangle and compute the area**¶\n",
        "### **Program Console Sample 1:**\n",
        "### **Enter Base of a triangle: 10**\n",
        "### **Enter Height of a triangle: 20**\n",
        "### **The Area of triangle having base 10.0 and height 20.0 is 100.0**"
      ]
    },
    {
      "cell_type": "code",
      "metadata": {
        "id": "CsrsBFoEwIi4",
        "colab_type": "code",
        "colab": {
          "base_uri": "https://localhost:8080/",
          "height": 68
        },
        "outputId": "523685b0-2971-4521-ba2a-70bbd66598a3"
      },
      "source": [
        "#Taking Input\n",
        "base = float(input(\"Enter Base Of a triangle: \"))\n",
        "height = float(input(\"Enter Height Of a triangle: \"))\n",
        "\n",
        "#Using area formula for traingle\n",
        "area = (1/2) * base * height\n",
        "\n",
        "#Final output i.e Area of a triangle\n",
        "print(f\"The Area of triangle having base {base} and height {height} is {area}\")"
      ],
      "execution_count": 10,
      "outputs": [
        {
          "output_type": "stream",
          "text": [
            "Enter Base Of a triangle: 10\n",
            "Enter Height Of a triangle: 20\n",
            "The Area of triangle having base 10.0 and height 20.0 is 100.0\n"
          ],
          "name": "stdout"
        }
      ]
    },
    {
      "cell_type": "code",
      "metadata": {
        "id": "PDq3bzB_xB2H",
        "colab_type": "code",
        "colab": {}
      },
      "source": [
        ""
      ],
      "execution_count": 0,
      "outputs": []
    },
    {
      "cell_type": "code",
      "metadata": {
        "id": "J97LsHkDxCJ6",
        "colab_type": "code",
        "colab": {}
      },
      "source": [
        ""
      ],
      "execution_count": 0,
      "outputs": []
    },
    {
      "cell_type": "markdown",
      "metadata": {
        "id": "uU330IQoxC3v",
        "colab_type": "text"
      },
      "source": [
        "# **9. Calculate Interest**\n",
        "### **Write a Python program to compute the future value of a specified principal amount, rate of interest, and a number of years**\n",
        "### **Program Console Sample 1:**\n",
        "### **Please enter principal amount: 10000**\n",
        "### **Please Enter Rate of interest in %: 0.1**\n",
        "### **Enter number of years for investment: 5**\n",
        "### **After 5 years your principal amount 10000 over an interest rate of 0.1 % will be 16105.1**"
      ]
    },
    {
      "cell_type": "code",
      "metadata": {
        "id": "mV3fmrxIxUn5",
        "colab_type": "code",
        "colab": {
          "base_uri": "https://localhost:8080/",
          "height": 85
        },
        "outputId": "0f7e2fbd-f91e-4119-f219-595b7936f0f2"
      },
      "source": [
        "#Taking Input\n",
        "amount = int(input(\"Please enter principal amount: \"))\n",
        "interest = float(input(\"Please Enter Rate of interest in %: \"))\n",
        "years = int(input(\"Enter number of years for investment: \"))\n",
        "\n",
        "#Using formula to compute the future value of a specified principal amount\n",
        "future_value = amount * (1+interest) ** years\n",
        "\n",
        "#Using round function to round off the result to one decimal place\n",
        "future_value = round(future_value,1)\n",
        "\n",
        "#Printing the future value\n",
        "print(f\"After {years} years your principal amount {amount} over an interest rate of {interest}% will be {future_value}\")"
      ],
      "execution_count": 12,
      "outputs": [
        {
          "output_type": "stream",
          "text": [
            "Please enter principal amount: 10000\n",
            "Please Enter Rate of interest in %: 0.1\n",
            "Enter number of years for investment: 5\n",
            "After 5 years your principal amount 10000 over an interest rate of 0.1% will be 16105.1\n"
          ],
          "name": "stdout"
        }
      ]
    },
    {
      "cell_type": "code",
      "metadata": {
        "id": "CvgoHRoAzrV-",
        "colab_type": "code",
        "colab": {}
      },
      "source": [
        ""
      ],
      "execution_count": 0,
      "outputs": []
    },
    {
      "cell_type": "code",
      "metadata": {
        "id": "bum1zvijzrp2",
        "colab_type": "code",
        "colab": {}
      },
      "source": [
        ""
      ],
      "execution_count": 0,
      "outputs": []
    },
    {
      "cell_type": "markdown",
      "metadata": {
        "id": "-Ja7qzc9zsMa",
        "colab_type": "text"
      },
      "source": [
        "\n",
        "# **10. Euclidean distance**\n",
        "### **write a Python program to compute the distance between the points (x1, y1) and (x2, y2).**\n",
        "### **Program Console Sample 1:**\n",
        "### **Enter Co-ordinate for x1: 2**\n",
        "### **Enter Co-ordinate for x2: 4**\n",
        "### **Enter Co-ordinate for y1: 4**\n",
        "### **Enter Co-ordinate for y2: 4**\n",
        "### **Distance between points (2, 4) and (4, 4) is 2**"
      ]
    },
    {
      "cell_type": "code",
      "metadata": {
        "id": "bTI5_O9m0B8h",
        "colab_type": "code",
        "colab": {
          "base_uri": "https://localhost:8080/",
          "height": 102
        },
        "outputId": "ffceb880-0c6c-473b-d160-0edaad27bc65"
      },
      "source": [
        "#Taking Input\n",
        "x1 = int(input(\"Enter Co-ordinate for x1: \"))\n",
        "x2 = int(input(\"Enter Co-ordinate for x2: \"))\n",
        "y1 = int(input(\"Enter Co-ordinate for y1:\" ))\n",
        "y2 = int(input(\"Enter Co-ordinate for y2:\" ))\n",
        "\n",
        "#Organizing Coordinates in such a pattern to use their text in final result\n",
        "a1 =\"(\"+ str(x1) + \",\" + str(x2) + \")\"\n",
        "b1=\"(\"+ str(y1) + \",\" + str(y2) + \")\"\n",
        "\n",
        "#Using Eclidean distance formulae\n",
        "euclidean_distance = ((y1-x1)**2+(y2-x2)**2)**0.5\n",
        "\n",
        "#Print desired results\n",
        "print(f\"Distance between points {a1} and {b1} is {euclidean_distance}\")"
      ],
      "execution_count": 14,
      "outputs": [
        {
          "output_type": "stream",
          "text": [
            "Enter Co-ordinate for x1: 2\n",
            "Enter Co-ordinate for x2: 4\n",
            "Enter Co-ordinate for y1:4\n",
            "Enter Co-ordinate for y2:4\n",
            "Distance between points (2,4) and (4,4) is 2.0\n"
          ],
          "name": "stdout"
        }
      ]
    },
    {
      "cell_type": "code",
      "metadata": {
        "id": "iK9R0Zif1VRH",
        "colab_type": "code",
        "colab": {}
      },
      "source": [
        ""
      ],
      "execution_count": 0,
      "outputs": []
    },
    {
      "cell_type": "code",
      "metadata": {
        "id": "GsfxGX_K1Vsz",
        "colab_type": "code",
        "colab": {}
      },
      "source": [
        ""
      ],
      "execution_count": 0,
      "outputs": []
    },
    {
      "cell_type": "markdown",
      "metadata": {
        "id": "TTtb1x_Z1V9V",
        "colab_type": "text"
      },
      "source": [
        "\n",
        "# **11. Feet to Centimeter Converter**\n",
        "### **Write a Python program to convert height in feet to centimetres.**\n",
        "### **Program Console Sample 1:**\n",
        "### **Enter Height in Feet: 5**\n",
        "### **There are 152.4 Cm in 5 ft**"
      ]
    },
    {
      "cell_type": "code",
      "metadata": {
        "id": "tMSq7rnb12jU",
        "colab_type": "code",
        "colab": {
          "base_uri": "https://localhost:8080/",
          "height": 51
        },
        "outputId": "4d159911-c18b-47ca-9065-cc2be5377b16"
      },
      "source": [
        "#Taking Input\n",
        "height_ft = float(input(\"Enter height in Feet: \"))\n",
        "\n",
        "#Using ft to cm formulae\n",
        "height_cm = height_ft * 30.48\n",
        "\n",
        "#Printing formulae output\n",
        "print(f\"There are {height_cm} Cm in {height_ft} ft\")"
      ],
      "execution_count": 16,
      "outputs": [
        {
          "output_type": "stream",
          "text": [
            "Enter height in Feet: 5\n",
            "There are 152.4 Cm in 5.0 ft\n"
          ],
          "name": "stdout"
        }
      ]
    },
    {
      "cell_type": "code",
      "metadata": {
        "id": "KKiHiY5W2Uxj",
        "colab_type": "code",
        "colab": {}
      },
      "source": [
        ""
      ],
      "execution_count": 0,
      "outputs": []
    },
    {
      "cell_type": "code",
      "metadata": {
        "id": "sDcZjun22VDB",
        "colab_type": "code",
        "colab": {}
      },
      "source": [
        ""
      ],
      "execution_count": 0,
      "outputs": []
    },
    {
      "cell_type": "markdown",
      "metadata": {
        "id": "xqvm8Ird2Yi-",
        "colab_type": "text"
      },
      "source": [
        "# **12. BMI Calculator**\n",
        "### **Write a Python program to calculate body mass index**\n",
        "### **Program Console Sample 1:**\n",
        "### **Enter Height in Cm: 180**\n",
        "### **Enter Weight in Kg: 75**\n",
        "### **Your BMI is 23.15**"
      ]
    },
    {
      "cell_type": "code",
      "metadata": {
        "id": "Xfj3wSGD2m4l",
        "colab_type": "code",
        "colab": {
          "base_uri": "https://localhost:8080/",
          "height": 68
        },
        "outputId": "55249d20-b8c5-4419-9426-3238e43404ab"
      },
      "source": [
        "#Taking Input\n",
        "Height = float(input(\"Enter Height in Cm: \"))\n",
        "Weight = float(input(\"Enter Weight in Kg: \"))\n",
        "\n",
        "#Using Formulae to caluclate BMI\n",
        "BMI = Weight / ((Height * 0.01) ** 2)\n",
        "\n",
        "#Using round() function to round off BMI To 2 decimal place\n",
        "BMI = round(BMI,2)\n",
        "\n",
        "#Printing output\n",
        "print(f\"Your BMI is {BMI}\")"
      ],
      "execution_count": 17,
      "outputs": [
        {
          "output_type": "stream",
          "text": [
            "Enter Height in Cm: 180\n",
            "Enter Weight in Kg: 75\n",
            "Your BMI is 23.15\n"
          ],
          "name": "stdout"
        }
      ]
    },
    {
      "cell_type": "code",
      "metadata": {
        "id": "fF1mJgyj3CO8",
        "colab_type": "code",
        "colab": {}
      },
      "source": [
        ""
      ],
      "execution_count": 0,
      "outputs": []
    },
    {
      "cell_type": "code",
      "metadata": {
        "id": "_NLIM-9E3CjX",
        "colab_type": "code",
        "colab": {}
      },
      "source": [
        ""
      ],
      "execution_count": 0,
      "outputs": []
    },
    {
      "cell_type": "markdown",
      "metadata": {
        "id": "ljd1lsdW3C2Y",
        "colab_type": "text"
      },
      "source": [
        "# **13. Sum of n Positive Integers**\n",
        "### **Write a python program to sum of the first n positive integers**\n",
        "### **Program Console Sample 1:**\n",
        "### **Enter value of n: 5**\n",
        "### **Sum of n Positive integers till 5 is 15**"
      ]
    },
    {
      "cell_type": "code",
      "metadata": {
        "id": "3aBwGXQN3QBH",
        "colab_type": "code",
        "colab": {
          "base_uri": "https://localhost:8080/",
          "height": 51
        },
        "outputId": "08bb10d5-2224-4afb-b648-d989306e9272"
      },
      "source": [
        "#taking input\n",
        "value = int(input(\"Enter value of n: \"))\n",
        "\n",
        "#Assigning sum to zero so that loop values should be added to this sum value i.e 0\n",
        "sum = 0\n",
        "\n",
        "#using loop to print positive integers\n",
        "for i in range(value+1):\n",
        "#Adding the loop values in sum variable each time the loop is repeat its new value is added to the previous one\n",
        "    sum = sum+i\n",
        "    \n",
        "#Printing Sum of n positive inteers\n",
        "print(f\"Sum of n Positive integers till {value} is {sum}\")"
      ],
      "execution_count": 19,
      "outputs": [
        {
          "output_type": "stream",
          "text": [
            "Enter value of n: 5\n",
            "Sum of n Positive integers till 5 is 15\n"
          ],
          "name": "stdout"
        }
      ]
    },
    {
      "cell_type": "code",
      "metadata": {
        "id": "DgReWKMs31aX",
        "colab_type": "code",
        "colab": {}
      },
      "source": [
        ""
      ],
      "execution_count": 0,
      "outputs": []
    },
    {
      "cell_type": "code",
      "metadata": {
        "id": "mXmjNcFP31u6",
        "colab_type": "code",
        "colab": {}
      },
      "source": [
        ""
      ],
      "execution_count": 0,
      "outputs": []
    },
    {
      "cell_type": "markdown",
      "metadata": {
        "id": "0cTeV3Vo32M4",
        "colab_type": "text"
      },
      "source": [
        "# **14. Digits Sum of a Number**\n",
        "### **Write a Python program to calculate the sum of the digits in an integer**\n",
        "### **Program Console Sample 1:**\n",
        "### **Enter a number: 15**\n",
        "### **Sum of 1 + 5 is 6**\n",
        "### **Program Console Sample 2:**\n",
        "### **Enter a number: 1234**\n",
        "### **Sum of 1 + 2 + 3 + 4 is 10**"
      ]
    },
    {
      "cell_type": "code",
      "metadata": {
        "id": "8lqDSdDa4K1H",
        "colab_type": "code",
        "colab": {
          "base_uri": "https://localhost:8080/",
          "height": 51
        },
        "outputId": "0b3f98d1-2f34-4339-f48d-2d83e1fa4268"
      },
      "source": [
        "#Assigning sum zero value to use this variable in loop for sum of the digitis in an integer\n",
        "sum = 0\n",
        "\n",
        "#Taking input\n",
        "num = input(\"Enter a number: \")\n",
        "\n",
        "#Using loop to caluclate the sum of digitis in an integers \n",
        "for i in num:\n",
        "    sum = sum + int(i)\n",
        "    \n",
        "#Printing Results\n",
        "print(f\"Sum of {num} is {sum}\")"
      ],
      "execution_count": 20,
      "outputs": [
        {
          "output_type": "stream",
          "text": [
            "Enter a number: 15\n",
            "Sum of 15 is 6\n"
          ],
          "name": "stdout"
        }
      ]
    },
    {
      "cell_type": "code",
      "metadata": {
        "id": "lsYpc6LF4mP_",
        "colab_type": "code",
        "colab": {}
      },
      "source": [
        ""
      ],
      "execution_count": 0,
      "outputs": []
    },
    {
      "cell_type": "code",
      "metadata": {
        "id": "0JG7UX7g4qiB",
        "colab_type": "code",
        "colab": {}
      },
      "source": [
        ""
      ],
      "execution_count": 0,
      "outputs": []
    },
    {
      "cell_type": "code",
      "metadata": {
        "id": "fssTSo3w4tT7",
        "colab_type": "code",
        "colab": {}
      },
      "source": [
        ""
      ],
      "execution_count": 0,
      "outputs": []
    },
    {
      "cell_type": "code",
      "metadata": {
        "id": "gQRWiAkl4q8E",
        "colab_type": "code",
        "colab": {
          "base_uri": "https://localhost:8080/",
          "height": 34
        },
        "outputId": "8d3de68b-9c00-4a28-806e-859c3d5abefd"
      },
      "source": [
        "print(\"****************************************************************ALHAMD-U-LILLAH I DONE IT********************************************************************\")"
      ],
      "execution_count": 23,
      "outputs": [
        {
          "output_type": "stream",
          "text": [
            "****************************************************************ALHAMD-U-LILLAH I DONE IT********************************************************************\n"
          ],
          "name": "stdout"
        }
      ]
    },
    {
      "cell_type": "code",
      "metadata": {
        "id": "zP9K3g2D5Pu8",
        "colab_type": "code",
        "colab": {}
      },
      "source": [
        ""
      ],
      "execution_count": 0,
      "outputs": []
    },
    {
      "cell_type": "code",
      "metadata": {
        "id": "zPtJKd6949O1",
        "colab_type": "code",
        "colab": {}
      },
      "source": [
        ""
      ],
      "execution_count": 0,
      "outputs": []
    }
  ]
}